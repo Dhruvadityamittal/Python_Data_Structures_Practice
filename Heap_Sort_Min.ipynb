{
 "cells": [
  {
   "cell_type": "code",
   "execution_count": 1,
   "metadata": {
    "collapsed": true
   },
   "outputs": [],
   "source": [
    "def PARENT(i):\n",
    "    return int((i-1)/2)\n",
    "def Left(i):\n",
    "    return int((2*i)+1)\n",
    "def Right(i):\n",
    "    return int((2*i)+2)\n"
   ]
  },
  {
   "cell_type": "code",
   "execution_count": 2,
   "metadata": {
    "collapsed": true
   },
   "outputs": [],
   "source": [
    "def max_heapify(A,i,heap_size):\n",
    "    l=Left(i)\n",
    "    r=Right(i)\n",
    "    #heap_size=len(A)\n",
    "#     print(l)\n",
    "#     print(r)\n",
    "    if(l<heap_size and A[l]<A[i]):\n",
    "        largest=l\n",
    "#         print(largest)\n",
    "    else:\n",
    "        largest=i\n",
    "    \n",
    "    if(r<heap_size and A[r]<A[largest]):\n",
    "        largest=r\n",
    "    \n",
    "    if(largest!=i):\n",
    "        temp=A[i]\n",
    "        A[i]=A[largest]\n",
    "        A[largest]=temp\n",
    "        max_heapify(A,largest,heap_size)\n",
    "    \n",
    "        "
   ]
  },
  {
   "cell_type": "code",
   "execution_count": 3,
   "metadata": {
    "collapsed": true
   },
   "outputs": [],
   "source": [
    "def build_max_heap(A):\n",
    "    heap_size=len(A)\n",
    "#     print(heap_size)\n",
    "    for i in range(int(len(A)/2),-1,-1):\n",
    "#         print(i)\n",
    "        max_heapify(A,i,heap_size)\n",
    "    return array"
   ]
  },
  {
   "cell_type": "code",
   "execution_count": 4,
   "metadata": {
    "collapsed": true
   },
   "outputs": [],
   "source": [
    "# #array=[35,33,42,10,14,19,27,44,26,31]\n",
    "# array=build_max_heap(array)\n",
    "# print(array)"
   ]
  },
  {
   "cell_type": "code",
   "execution_count": 10,
   "metadata": {
    "collapsed": true
   },
   "outputs": [],
   "source": [
    "def heap_sort(array):\n",
    "    heap_size=len(array)\n",
    "    build_max_heap(array)\n",
    "    print(\"Min Heap :\\n\",array)\n",
    "    for i in range(len(array)-1,-1,-1):\n",
    "        temp=array[0]\n",
    "        array[0]=array[i]\n",
    "        array[i]=temp\n",
    "        heap_size=heap_size-1\n",
    "        max_heapify(array,0,heap_size)\n",
    "    return array"
   ]
  },
  {
   "cell_type": "code",
   "execution_count": 13,
   "metadata": {},
   "outputs": [
    {
     "name": "stdout",
     "output_type": "stream",
     "text": [
      "Min Heap :\n",
      " [6, 7, 10, 15, 12, 17]\n",
      "\n",
      "\n",
      "Heap Sort Output :\n",
      " [17, 15, 12, 10, 7, 6]\n"
     ]
    }
   ],
   "source": [
    "#array=[4,1,3,2,16,9,10,14,8,7]\n",
    "import numpy as np\n",
    "# array=[35,33,42,10,14,19,27,44,26,31,55]\n",
    "array=[80,38,71,31,16]\n",
    "array=[6,7,10,15,12,17]\n",
    "\n",
    "# size=int(input(\"Enter the size of the array :\"))\n",
    "# array=np.ceil(np.square(np.random.randn(size)))*10\n",
    "array=heap_sort(array)\n",
    "print()\n",
    "print()\n",
    "print(\"Heap Sort Output :\\n\",array)"
   ]
  },
  {
   "cell_type": "code",
   "execution_count": null,
   "metadata": {
    "collapsed": true
   },
   "outputs": [],
   "source": []
  }
 ],
 "metadata": {
  "kernelspec": {
   "display_name": "Python 3",
   "language": "python",
   "name": "python3"
  },
  "language_info": {
   "codemirror_mode": {
    "name": "ipython",
    "version": 3
   },
   "file_extension": ".py",
   "mimetype": "text/x-python",
   "name": "python",
   "nbconvert_exporter": "python",
   "pygments_lexer": "ipython3",
   "version": "3.6.3"
  }
 },
 "nbformat": 4,
 "nbformat_minor": 2
}
