{
 "cells": [
  {
   "cell_type": "code",
   "execution_count": 20,
   "metadata": {},
   "outputs": [
    {
     "name": "stdout",
     "output_type": "stream",
     "text": [
      "Enter the size :5\n",
      "[  5.62289038  20.10437107  24.93291823 110.84421973 177.39779351]\n"
     ]
    }
   ],
   "source": [
    "import numpy as np\n",
    "size=int(input(\"Enter the size :\"))\n",
    "array=abs(np.random.randn(size))*100\n",
    "swapped=False\n",
    "for i in range(size):\n",
    "    swapped=False    \n",
    "    for j in  range(size-i-1):\n",
    "        if(array[j]>array[j+1]):\n",
    "            temp=array[j]\n",
    "            array[j]=array[j+1]\n",
    "            array[j+1]=temp\n",
    "            swapped=True\n",
    "    if(swapped==False):\n",
    "        break\n",
    "print(array)\n"
   ]
  },
  {
   "cell_type": "code",
   "execution_count": 8,
   "metadata": {},
   "outputs": [
    {
     "name": "stdout",
     "output_type": "stream",
     "text": [
      "6\n",
      "5\n",
      "4\n",
      "3\n",
      "2\n",
      "1\n"
     ]
    }
   ],
   "source": []
  },
  {
   "cell_type": "code",
   "execution_count": null,
   "metadata": {
    "collapsed": true
   },
   "outputs": [],
   "source": []
  }
 ],
 "metadata": {
  "kernelspec": {
   "display_name": "Python 3",
   "language": "python",
   "name": "python3"
  },
  "language_info": {
   "codemirror_mode": {
    "name": "ipython",
    "version": 3
   },
   "file_extension": ".py",
   "mimetype": "text/x-python",
   "name": "python",
   "nbconvert_exporter": "python",
   "pygments_lexer": "ipython3",
   "version": "3.6.3"
  }
 },
 "nbformat": 4,
 "nbformat_minor": 2
}
