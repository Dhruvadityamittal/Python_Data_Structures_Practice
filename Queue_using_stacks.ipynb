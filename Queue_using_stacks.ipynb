{
 "cells": [
  {
   "cell_type": "code",
   "execution_count": 96,
   "metadata": {},
   "outputs": [],
   "source": [
    "def create_stack():\n",
    "    a=[]\n",
    "    return a\n",
    "\n",
    "def push(stack,value):\n",
    "   \n",
    "    stack.append(value)\n",
    "    #print(\"Value =\",value,\"appended to the Stack.\")\n",
    "    \n",
    "def pop(stack):\n",
    "    \n",
    "    if(len(stack)!=0):\n",
    "        #print(\"Value =\",stack[0],\"poped out from the Stack.\")\n",
    "        value=stack.pop()\n",
    "        return value\n",
    "        \n",
    "    else:\n",
    "        print(\"\")\n",
    "        print(\"Stack is Empty \")\n",
    "\n",
    "        \n",
    "    \n"
   ]
  },
  {
   "cell_type": "code",
   "execution_count": null,
   "metadata": {},
   "outputs": [],
   "source": [
    "\n",
    "\n"
   ]
  },
  {
   "cell_type": "code",
   "execution_count": 97,
   "metadata": {
    "collapsed": true
   },
   "outputs": [],
   "source": [
    "def enqueue(s1,s2,value):\n",
    "    if(len(s2)==0):\n",
    "        push(s1,value)\n",
    "    else:\n",
    "        while(len(s2)!=0):\n",
    "            push(s1,pop(s2))\n",
    "        push(s1,value)\n",
    "        \n",
    "def dequeue(s1,s2):\n",
    "    if(len(s1)==0):\n",
    "        pop(s2)\n",
    "    else:\n",
    "        while(len(s1)!=0):\n",
    "            push(s2,pop(s1))\n",
    "        pop(s2)\n",
    "        \n",
    "            \n",
    "            \n",
    "    "
   ]
  },
  {
   "cell_type": "code",
   "execution_count": 108,
   "metadata": {},
   "outputs": [
    {
     "name": "stdout",
     "output_type": "stream",
     "text": [
      "\n",
      "Stack is Empty \n",
      "0\n",
      "3\n",
      "S2 [7, 6, 3]\n"
     ]
    }
   ],
   "source": [
    "s1=create_stack()\n",
    "s2=create_stack()\n",
    "enqueue(s1,s2,1)\n",
    "enqueue(s1,s2,2)\n",
    "enqueue(s1,s2,3)\n",
    "dequeue(s1,s2)\n",
    "enqueue(s1,s2,6)\n",
    "dequeue(s2,s2)\n",
    "enqueue(s1,s2,7)\n",
    "dequeue(s1,s2)\n",
    "\n",
    "print(len(s1))\n",
    "print(len(s2))\n",
    "      \n",
    "if(len(s1)==0):\n",
    "    print(\"S2\",s2)\n",
    "else:\n",
    "    print(\"S1\",s1[::-1])\n",
    "    \n"
   ]
  },
  {
   "cell_type": "code",
   "execution_count": 72,
   "metadata": {},
   "outputs": [
    {
     "data": {
      "text/plain": [
       "[1, 2]"
      ]
     },
     "execution_count": 72,
     "metadata": {},
     "output_type": "execute_result"
    }
   ],
   "source": [
    "a=[1,2,3]\n",
    "value=a.pop()\n",
    "value\n",
    "a"
   ]
  },
  {
   "cell_type": "code",
   "execution_count": null,
   "metadata": {
    "collapsed": true
   },
   "outputs": [],
   "source": []
  }
 ],
 "metadata": {
  "kernelspec": {
   "display_name": "Python 3",
   "language": "python",
   "name": "python3"
  },
  "language_info": {
   "codemirror_mode": {
    "name": "ipython",
    "version": 3
   },
   "file_extension": ".py",
   "mimetype": "text/x-python",
   "name": "python",
   "nbconvert_exporter": "python",
   "pygments_lexer": "ipython3",
   "version": "3.6.3"
  }
 },
 "nbformat": 4,
 "nbformat_minor": 2
}
