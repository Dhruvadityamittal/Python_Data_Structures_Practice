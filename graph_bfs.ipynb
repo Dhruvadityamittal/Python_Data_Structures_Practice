{
 "cells": [
  {
   "cell_type": "code",
   "execution_count": 51,
   "metadata": {
    "collapsed": true
   },
   "outputs": [],
   "source": [
    "from collections import defaultdict\n"
   ]
  },
  {
   "cell_type": "code",
   "execution_count": 91,
   "metadata": {
    "collapsed": true
   },
   "outputs": [],
   "source": [
    "graph=defaultdict(list)\n",
    "\n",
    "def add_edge(graph,u,v):\n",
    "    graph[u].append(v)\n",
    "    \n",
    "def traverse_graph(graph):\n",
    "    \n",
    "    for node in graph:\n",
    "        print(node,\"->\",end=\" \")\n",
    "        for edge in graph[node]:\n",
    "            print(edge,end=\" \")\n",
    "        print()\n",
    "        \n",
    "def bfs(graph,source):\n",
    "    visited=[False]*len(graph)\n",
    "    print(visited)\n",
    "    queue=[]\n",
    "    \n",
    "    queue.append(source)\n",
    "    visited[source]=True\n",
    "    \n",
    "    while(queue):\n",
    "        print(queue)\n",
    "        source=queue.pop(0)\n",
    "        #print(source,end=\" \")\n",
    "        print(queue)\n",
    "        for i in graph[source]:\n",
    "            \n",
    "            if(visited[i]==False):\n",
    "                queue.append(i)\n",
    "                visited[i]=True\n",
    "        \n"
   ]
  },
  {
   "cell_type": "code",
   "execution_count": 92,
   "metadata": {},
   "outputs": [
    {
     "data": {
      "text/plain": [
       "defaultdict(list,\n",
       "            {0: [1, 2],\n",
       "             1: [4, 0, 3],\n",
       "             2: [0, 4],\n",
       "             3: [1, 5],\n",
       "             4: [2, 5, 1],\n",
       "             5: [3, 4]})"
      ]
     },
     "execution_count": 92,
     "metadata": {},
     "output_type": "execute_result"
    }
   ],
   "source": [
    "add_edge(graph,0,1)\n",
    "add_edge(graph,0,2)\n",
    "\n",
    "add_edge(graph,1,4)\n",
    "add_edge(graph,1,0)\n",
    "add_edge(graph,1,3)\n",
    "\n",
    "add_edge(graph,2,0)\n",
    "add_edge(graph,2,4)\n",
    "\n",
    "add_edge(graph,3,1)\n",
    "add_edge(graph,3,5)\n",
    "\n",
    "add_edge(graph,4,2)\n",
    "add_edge(graph,4,5)\n",
    "add_edge(graph,4,1)\n",
    "\n",
    "add_edge(graph,5,3)\n",
    "add_edge(graph,5,4)\n",
    "\n",
    "\n",
    "\n",
    "\n",
    "\n",
    "\n",
    "\n",
    "graph"
   ]
  },
  {
   "cell_type": "code",
   "execution_count": 93,
   "metadata": {},
   "outputs": [
    {
     "name": "stdout",
     "output_type": "stream",
     "text": [
      "[False, False, False, False, False, False]\n",
      "[1]\n",
      "[]\n",
      "[4, 0, 3]\n",
      "[0, 3]\n",
      "[0, 3, 2, 5]\n",
      "[3, 2, 5]\n",
      "[3, 2, 5]\n",
      "[2, 5]\n",
      "[2, 5]\n",
      "[5]\n",
      "[5]\n",
      "[]\n"
     ]
    }
   ],
   "source": [
    "# print()\n",
    "# traverse_graph(graph)\n",
    "bfs(graph,1)"
   ]
  },
  {
   "cell_type": "code",
   "execution_count": 60,
   "metadata": {},
   "outputs": [
    {
     "data": {
      "text/plain": [
       "1"
      ]
     },
     "execution_count": 60,
     "metadata": {},
     "output_type": "execute_result"
    }
   ],
   "source": []
  },
  {
   "cell_type": "code",
   "execution_count": null,
   "metadata": {
    "collapsed": true
   },
   "outputs": [],
   "source": []
  }
 ],
 "metadata": {
  "kernelspec": {
   "display_name": "Python 3",
   "language": "python",
   "name": "python3"
  },
  "language_info": {
   "codemirror_mode": {
    "name": "ipython",
    "version": 3
   },
   "file_extension": ".py",
   "mimetype": "text/x-python",
   "name": "python",
   "nbconvert_exporter": "python",
   "pygments_lexer": "ipython3",
   "version": "3.6.3"
  }
 },
 "nbformat": 4,
 "nbformat_minor": 2
}
