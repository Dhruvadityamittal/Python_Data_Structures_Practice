{
 "cells": [
  {
   "cell_type": "code",
   "execution_count": 1,
   "metadata": {},
   "outputs": [
    {
     "name": "stdout",
     "output_type": "stream",
     "text": [
      "{0: [], 1: [(0, 1)]}\n",
      "{0: [], 1: [(0, 1)], 2: [(0, 2)]}\n",
      "{0: [], 1: [(0, 1)], 2: [(0, 2)], 3: [(0, 2), (2, 3)]}\n",
      "{0: [], 1: [(0, 1)]}\n",
      "{0: [], 1: [(0, 1)], 2: [(0, 1), (1, 2)]}\n",
      "{0: [], 1: [(0, 1)], 2: [(0, 1), (1, 2)], 3: [(0, 1), (1, 3)]}\n",
      "{0: [], 1: [(0, 1)]}\n",
      "{0: [], 1: [(0, 1)], 2: [(0, 1), (1, 2)]}\n",
      "{0: [], 1: [(0, 1)], 2: [(0, 1), (1, 2)], 3: [(0, 1), (1, 2), (2, 3)]}\n",
      "max_flow_value is:  30\n"
     ]
    }
   ],
   "source": [
    "C = [[ 0, 20, 10, 0],\n",
    "     [ 0, 0, 20, 10],\n",
    "     [ 0, 0, 0, 20],\n",
    "     [ 0, 0, 0, 0],]\n",
    "\n",
    "def dfs(C, F, s, t):\n",
    "    stack = [s]\n",
    "    paths = {s: []}\n",
    "    if s == t:\n",
    "        return paths[s]\n",
    "    while (stack):\n",
    "        u = stack.pop()\n",
    "        for v in range(len(C)):\n",
    "            if (C[u][v] - F[u][v] > 0) and v not in paths:\n",
    "                paths[v] = paths[u] + [(u, v)]\n",
    "                print(paths)\n",
    "                if v == t:\n",
    "                    return paths[v]\n",
    "                stack.append(v)\n",
    "    return None\n",
    "\n",
    "def max_flow(C, s, t):\n",
    "    n = len(C)\n",
    "    F = [[0] * n for i in range(n)]\n",
    "    path = dfs(C, F, s, t)\n",
    "    while        path != None:\n",
    "        flow = min(C[u][v] - F[u][v] for u, v in path)\n",
    "        for u, v in path:\n",
    "            F[u][v] += flow\n",
    "            F[v][u] -= flow\n",
    "        path = dfs(C, F, s, t)\n",
    "    return sum(F[s][i] for i in range(n))\n",
    "\n",
    "source = 0\n",
    "sink = 3\n",
    "max_flow_value = max_flow(C, source, sink)\n",
    "print(\"max_flow_value is: \", max_flow_value)"
   ]
  },
  {
   "cell_type": "code",
   "execution_count": null,
   "metadata": {
    "collapsed": true
   },
   "outputs": [],
   "source": []
  }
 ],
 "metadata": {
  "kernelspec": {
   "display_name": "Python 3",
   "language": "python",
   "name": "python3"
  },
  "language_info": {
   "codemirror_mode": {
    "name": "ipython",
    "version": 3
   },
   "file_extension": ".py",
   "mimetype": "text/x-python",
   "name": "python",
   "nbconvert_exporter": "python",
   "pygments_lexer": "ipython3",
   "version": "3.6.3"
  }
 },
 "nbformat": 4,
 "nbformat_minor": 2
}
