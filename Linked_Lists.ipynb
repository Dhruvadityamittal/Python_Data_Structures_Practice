{
 "cells": [
  {
   "cell_type": "code",
   "execution_count": 159,
   "metadata": {
    "collapsed": true
   },
   "outputs": [],
   "source": [
    "class node:\n",
    "    def __init__(self):\n",
    "        self.data=input(\"Enter the Data in the Node :\")\n",
    "        self.next=None\n",
    "    \n",
    "    def insert_node_front(self,l):\n",
    "        \n",
    "        new_node=node()\n",
    "        new_node.next=l\n",
    "        l=new_node\n",
    "        return l\n",
    "    def print_list(self,l):\n",
    "        temp=l\n",
    "        while(temp!=None):\n",
    "            print(temp.data)\n",
    "            temp=temp.next\n",
    "    def len_list(self,l):\n",
    "        temp=l\n",
    "        i=0\n",
    "        while(temp!=None):\n",
    "            temp=temp.next\n",
    "            i=i+1\n",
    "        return i\n",
    "    def insert_node_last(self,l):\n",
    "        while(l.next!=None):\n",
    "            l=l.next\n",
    "        l.next=node()\n",
    "    \n",
    "    def insert_node_mid(self,l,index):\n",
    "        i=0\n",
    "        \n",
    "        while(l!=None and i!=index and i<=l.len_list(temp)):\n",
    "            i=i+1\n",
    "            l=l.next\n",
    "        val=l.next\n",
    "        l.next=node()\n",
    "        l.next.next=val\n",
    "    def delete_first(self,l):\n",
    "        l=l.next\n",
    "        return l\n",
    "    \n",
    "        \n",
    "            \n",
    "        \n",
    "        \n",
    "        \n",
    "            \n",
    "         \n",
    "    "
   ]
  },
  {
   "cell_type": "code",
   "execution_count": 160,
   "metadata": {},
   "outputs": [
    {
     "name": "stdout",
     "output_type": "stream",
     "text": [
      "Enter the Data in the Node :1\n",
      "Enter the Data in the Node :2\n",
      "Enter the Data in the Node :4\n"
     ]
    }
   ],
   "source": [
    "l1=node()\n",
    "\n",
    "l1.insert_node_last(l1)\n",
    "l1.insert_node_last(l1)\n",
    "length=l1.len_list(l1)\n",
    "\n",
    "\n"
   ]
  },
  {
   "cell_type": "code",
   "execution_count": null,
   "metadata": {
    "collapsed": true
   },
   "outputs": [],
   "source": []
  },
  {
   "cell_type": "code",
   "execution_count": 161,
   "metadata": {},
   "outputs": [
    {
     "name": "stdout",
     "output_type": "stream",
     "text": [
      "Enter the Data in the Node :2\n"
     ]
    }
   ],
   "source": [
    "l1.insert_node_mid(l1,0)"
   ]
  },
  {
   "cell_type": "code",
   "execution_count": 162,
   "metadata": {},
   "outputs": [
    {
     "name": "stdout",
     "output_type": "stream",
     "text": [
      "1\n",
      "2\n",
      "2\n",
      "4\n"
     ]
    }
   ],
   "source": [
    "l1.print_list(l1)"
   ]
  },
  {
   "cell_type": "code",
   "execution_count": 163,
   "metadata": {
    "collapsed": true
   },
   "outputs": [],
   "source": [
    "l1=l1.delete_first(l1)\n"
   ]
  },
  {
   "cell_type": "code",
   "execution_count": 164,
   "metadata": {},
   "outputs": [
    {
     "name": "stdout",
     "output_type": "stream",
     "text": [
      "2\n",
      "2\n",
      "4\n"
     ]
    }
   ],
   "source": [
    "l1.print_list(l1)"
   ]
  },
  {
   "cell_type": "code",
   "execution_count": 165,
   "metadata": {
    "collapsed": true
   },
   "outputs": [],
   "source": []
  },
  {
   "cell_type": "code",
   "execution_count": 167,
   "metadata": {},
   "outputs": [
    {
     "name": "stdout",
     "output_type": "stream",
     "text": [
      "2\n"
     ]
    }
   ],
   "source": []
  },
  {
   "cell_type": "code",
   "execution_count": null,
   "metadata": {
    "collapsed": true
   },
   "outputs": [],
   "source": []
  }
 ],
 "metadata": {
  "kernelspec": {
   "display_name": "Python 3",
   "language": "python",
   "name": "python3"
  },
  "language_info": {
   "codemirror_mode": {
    "name": "ipython",
    "version": 3
   },
   "file_extension": ".py",
   "mimetype": "text/x-python",
   "name": "python",
   "nbconvert_exporter": "python",
   "pygments_lexer": "ipython3",
   "version": "3.6.3"
  }
 },
 "nbformat": 4,
 "nbformat_minor": 2
}
