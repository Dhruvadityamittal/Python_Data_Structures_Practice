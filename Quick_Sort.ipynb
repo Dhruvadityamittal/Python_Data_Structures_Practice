{
 "cells": [
  {
   "cell_type": "code",
   "execution_count": 1,
   "metadata": {
    "collapsed": true
   },
   "outputs": [],
   "source": [
    "array=[2,4,1,5,3,7,6,8,1,2,1,5,2,5,14,533,4212,1,432,34]\n",
    "array=[1,4,2,1,0,2,5,3]"
   ]
  },
  {
   "cell_type": "code",
   "execution_count": 2,
   "metadata": {
    "collapsed": true
   },
   "outputs": [],
   "source": [
    "def quick_sort(array,p,r):\n",
    "    if(p<r):\n",
    "        q=partition(array,p,r)\n",
    "        quick_sort(array,p,q-1)\n",
    "        quick_sort(array,q+1,r)\n",
    "\n",
    "        "
   ]
  },
  {
   "cell_type": "code",
   "execution_count": 3,
   "metadata": {
    "collapsed": true
   },
   "outputs": [],
   "source": [
    "def partition(array,p,r):\n",
    "    x=array[r]\n",
    "    i=p-1\n",
    "    for j in range(p,r):\n",
    "        if(array[j]<=x):\n",
    "            i+=1\n",
    "            temp=array[j]\n",
    "            array[j]=array[i]\n",
    "            array[i]=temp\n",
    "    temp=array[r]\n",
    "    array[r]=array[i+1]\n",
    "    array[i+1]=temp\n",
    "    return i+1\n",
    "\n",
    "            "
   ]
  },
  {
   "cell_type": "code",
   "execution_count": 4,
   "metadata": {},
   "outputs": [
    {
     "name": "stdout",
     "output_type": "stream",
     "text": [
      "[0, 1, 1, 2, 2, 3, 4, 5]\n"
     ]
    }
   ],
   "source": [
    "# print(len(array))\n",
    "quick_sort(array,0,len(array)-1)\n",
    "print(array)"
   ]
  },
  {
   "cell_type": "code",
   "execution_count": 5,
   "metadata": {
    "collapsed": true
   },
   "outputs": [],
   "source": [
    "import random\n",
    "def randomized_partition(new_array,p,r):\n",
    "    i=random.randint(p,r)\n",
    "    temp=A[i]\n",
    "    A[i]=A[r]\n",
    "    A[r]=temp\n",
    "    return partition(new_array,p,r)\n",
    "    \n",
    "    "
   ]
  },
  {
   "cell_type": "code",
   "execution_count": 6,
   "metadata": {
    "collapsed": true
   },
   "outputs": [],
   "source": [
    "def random_quick_sort(array,p,r):\n",
    "    if(p<r):\n",
    "        q=partition(array,p,r)\n",
    "        random_quick_sort(array,p,q-1)\n",
    "        random_quick_sort(array,q+1,r)"
   ]
  },
  {
   "cell_type": "code",
   "execution_count": 7,
   "metadata": {},
   "outputs": [
    {
     "name": "stdout",
     "output_type": "stream",
     "text": [
      "[2, 4, 1, 5, 3, 7, 6, 8, 1, 2, 1, 5, 2, 5, 14, 533, 4212, 1, 432, 34]\n",
      "[1, 1, 1, 1, 2, 2, 2, 3, 4, 5, 5, 5, 6, 7, 8, 14, 34, 432, 533, 4212]\n"
     ]
    }
   ],
   "source": [
    "array=[2,4,1,5,3,7,6,8,1,2,1,5,2,5,14,533,4212,1,432,34]\n",
    "print(array)\n",
    "random_quick_sort(array,0,len(array)-1)\n",
    "print(array)"
   ]
  },
  {
   "cell_type": "code",
   "execution_count": null,
   "metadata": {
    "collapsed": true
   },
   "outputs": [],
   "source": []
  }
 ],
 "metadata": {
  "kernelspec": {
   "display_name": "Python 3",
   "language": "python",
   "name": "python3"
  },
  "language_info": {
   "codemirror_mode": {
    "name": "ipython",
    "version": 3
   },
   "file_extension": ".py",
   "mimetype": "text/x-python",
   "name": "python",
   "nbconvert_exporter": "python",
   "pygments_lexer": "ipython3",
   "version": "3.6.3"
  }
 },
 "nbformat": 4,
 "nbformat_minor": 2
}
