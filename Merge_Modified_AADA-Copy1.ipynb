{
 "cells": [
  {
   "cell_type": "code",
   "execution_count": 535,
   "metadata": {},
   "outputs": [],
   "source": [
    "array=[2,1,1]\n",
    "# for i in range(int(input(\"Enter the Size of the array\"))):\n",
    "#     array.append(int(input(\"Enter the element \"+str(i)+\" :\")))\n",
    "# import numpy as np\n",
    "# size=int(input(\"Enter the size of the array :\"))\n",
    "\n",
    "# array=np.random.randn(size)*-10    \n",
    "# array=array.tolist()\n",
    "# print(array)"
   ]
  },
  {
   "cell_type": "code",
   "execution_count": 536,
   "metadata": {},
   "outputs": [],
   "source": [
    "def fragment(array): #the case for all decending and all ascending is not added\n",
    "    j=0\n",
    "    i=0\n",
    "    k=1\n",
    "    l=dict()\n",
    "    a=[]\n",
    "    n=len(array)\n",
    "    print(\"n is \",n)\n",
    "\n",
    "    while(i<(n-1) and j<(n-1)):\n",
    "        if(array[j+1]>array[j]):\n",
    "            turn=1\n",
    "            a.append(turn)\n",
    "\n",
    "        else:\n",
    "            turn=0\n",
    "            a.append(turn)\n",
    "        \n",
    "        j=j+1\n",
    "    if(array[n-1]<array[n-2]):\n",
    "        a.append(0)\n",
    "    else:\n",
    "        a.append(1)\n",
    "\n",
    "    i=0\n",
    "    a1=[]\n",
    "    j=0\n",
    "    k=0\n",
    "    print(a)\n",
    "    \n",
    "    \n",
    "    if(a.count(1)==len(a)):\n",
    "        print(\"Array is Initially Sorted\")\n",
    "    elif(a.count(0)==len(a)):\n",
    "        print(\"Array is Reversed Sorted\")\n",
    "        print(array[::-1])\n",
    "    \n",
    "       \n",
    "                            # Making the fragments ............\n",
    "\n",
    "    while(j<len(a)):\n",
    "        \n",
    "        \n",
    "        if(a[j]==1):\n",
    "            while(j<(len(a)-1) and a[j]!=0):\n",
    "                    j=j+1\n",
    "                    \n",
    "            print(\"j\",j)\n",
    "                \n",
    "            a1.append(i)\n",
    "            a1.append(j)\n",
    "            l[str(k)]=a1\n",
    "            \n",
    "            j=j+1\n",
    "            i=j\n",
    "            a1=[]\n",
    "            k=k+1\n",
    "            \n",
    "\n",
    "        else:\n",
    "            while(j<(len(a)-1) and a[j]!=1):\n",
    "                j=j+1\n",
    "            a1.append(-i)\n",
    "            a1.append(-j)\n",
    "            l[str(k)]=a1\n",
    "            j=j+1\n",
    "            i=j\n",
    "            \n",
    "            \n",
    "            a1=[]\n",
    "            k=k+1\n",
    "    \n",
    "    \n",
    "#     if(j<=(n-1)):\n",
    "#         j=n-1\n",
    "#         a1.append(j)\n",
    "#         a1.append(j)\n",
    "#         l[str(k)]=a1\n",
    "\n",
    "        \n",
    "    \n",
    "  \n",
    "    return l\n",
    "    \n",
    "# print(i)\n",
    "# print(j)\n",
    "\n",
    "\n",
    "\n"
   ]
  },
  {
   "cell_type": "code",
   "execution_count": 537,
   "metadata": {},
   "outputs": [],
   "source": [
    "def merge(array,p,q,q1,r):\n",
    "    L=[]\n",
    "    R=[]\n",
    "    \n",
    "    if(p>=0 and q>=0):\n",
    "        L=array[p:q+1]\n",
    "       \n",
    "    else:\n",
    "        arr=array[abs(p):abs(q)+1]\n",
    "        L=arr[::-1]\n",
    "        \n",
    "    if(q1>=0 and r>=0):\n",
    "        R=array[q1:r+1]\n",
    "    else:\n",
    "        arr=array[abs(q1):abs(r)+1]\n",
    "        R=arr[::-1]\n",
    "        \n",
    "    L.append(10000)\n",
    "    R.append(10000)\n",
    "    print(\"Left  :\",L)\n",
    "    print(\"Right :\",R)\n",
    "           \n",
    "    i=0\n",
    "    j=0\n",
    "    \n",
    "    for k in range(abs(p),abs(r)+1):\n",
    "        if(L[i]<=R[j]):\n",
    "            array[k]=L[i]\n",
    "            i=i+1\n",
    "            \n",
    "        else:\n",
    "            array[k]=R[j]\n",
    "            j=j+1\n"
   ]
  },
  {
   "cell_type": "code",
   "execution_count": 538,
   "metadata": {},
   "outputs": [
    {
     "name": "stdout",
     "output_type": "stream",
     "text": [
      "n is  3\n",
      "[0, 0, 1]\n"
     ]
    }
   ],
   "source": [
    "l=fragment(array)\n",
    "n=len(l)\n",
    "\n",
    "while(n>1):\n",
    "    print(l)\n",
    "    merge(array,l['0'][0],l['0'][1],l['1'][0],l['1'][1])\n",
    "    print(1)\n",
    "    print(array)\n",
    "    \n",
    "    l=fragment(array)\n",
    "    print(\"length\",len(l))\n",
    "    n=n-1\n"
   ]
  },
  {
   "cell_type": "code",
   "execution_count": 539,
   "metadata": {},
   "outputs": [
    {
     "name": "stdout",
     "output_type": "stream",
     "text": [
      "[2, 1, 1]\n"
     ]
    }
   ],
   "source": [
    "print(array)"
   ]
  },
  {
   "cell_type": "code",
   "execution_count": 76,
   "metadata": {},
   "outputs": [
    {
     "data": {
      "text/plain": [
       "1"
      ]
     },
     "execution_count": 76,
     "metadata": {},
     "output_type": "execute_result"
    }
   ],
   "source": []
  },
  {
   "cell_type": "code",
   "execution_count": null,
   "metadata": {
    "collapsed": true
   },
   "outputs": [],
   "source": []
  }
 ],
 "metadata": {
  "kernelspec": {
   "display_name": "Python 3",
   "language": "python",
   "name": "python3"
  },
  "language_info": {
   "codemirror_mode": {
    "name": "ipython",
    "version": 3
   },
   "file_extension": ".py",
   "mimetype": "text/x-python",
   "name": "python",
   "nbconvert_exporter": "python",
   "pygments_lexer": "ipython3",
   "version": "3.6.3"
  }
 },
 "nbformat": 4,
 "nbformat_minor": 2
}
