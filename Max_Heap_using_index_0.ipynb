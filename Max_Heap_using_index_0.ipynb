{
 "cells": [
  {
   "cell_type": "code",
   "execution_count": 212,
   "metadata": {
    "collapsed": true
   },
   "outputs": [],
   "source": [
    "def PARENT(i):\n",
    "    return int(i/2)\n",
    "def Left(i):\n",
    "    return int((2*i))\n",
    "def Right(i):\n",
    "    return int((2*i)+1)\n"
   ]
  },
  {
   "cell_type": "code",
   "execution_count": 213,
   "metadata": {},
   "outputs": [],
   "source": [
    "def max_heapify(A,i):\n",
    "    l=Left(i)\n",
    "    r=Right(i)\n",
    "    heap_size=len(A)\n",
    "#     print(l)\n",
    "#     print(r)\n",
    "    if(l<heap_size and A[l]>A[i]):\n",
    "        largest=l\n",
    "#         print(largest)\n",
    "    else:\n",
    "        largest=i\n",
    "    \n",
    "    if(r<heap_size and A[r]>A[largest]):\n",
    "        largest=r\n",
    "    \n",
    "    if(largest!=i):\n",
    "        temp=A[i]\n",
    "        A[i]=A[largest]\n",
    "        A[largest]=temp\n",
    "        max_heapify(A,largest)\n",
    "    \n",
    "        "
   ]
  },
  {
   "cell_type": "code",
   "execution_count": 214,
   "metadata": {
    "collapsed": true
   },
   "outputs": [],
   "source": [
    "def build_max_heap(A):\n",
    "    heap_size=len(A)\n",
    "    \n",
    "    for i in range(int(len(A)/2),0,-1):\n",
    "        \n",
    "        max_heapify(A,i)\n",
    "    return array"
   ]
  },
  {
   "cell_type": "code",
   "execution_count": 216,
   "metadata": {},
   "outputs": [
    {
     "name": "stdout",
     "output_type": "stream",
     "text": [
      "[44, 35, 42, 33, 31, 19, 27, 10, 26, 14]\n"
     ]
    }
   ],
   "source": [
    "#array=[10,4,1,3,2,16,9,10,14,8,7]\n",
    "array=[1,35,33,42,10,14,19,27,44,26,31]\n",
    "array=build_max_heap(array)\n",
    "print(array[1:])"
   ]
  },
  {
   "cell_type": "code",
   "execution_count": 207,
   "metadata": {},
   "outputs": [],
   "source": []
  },
  {
   "cell_type": "code",
   "execution_count": 208,
   "metadata": {},
   "outputs": [
    {
     "name": "stdout",
     "output_type": "stream",
     "text": [
      "[10, 16, 14, 10, 8, 7, 9, 3, 2, 4, 1]\n"
     ]
    }
   ],
   "source": []
  },
  {
   "cell_type": "code",
   "execution_count": null,
   "metadata": {
    "collapsed": true
   },
   "outputs": [],
   "source": []
  }
 ],
 "metadata": {
  "kernelspec": {
   "display_name": "Python 3",
   "language": "python",
   "name": "python3"
  },
  "language_info": {
   "codemirror_mode": {
    "name": "ipython",
    "version": 3
   },
   "file_extension": ".py",
   "mimetype": "text/x-python",
   "name": "python",
   "nbconvert_exporter": "python",
   "pygments_lexer": "ipython3",
   "version": "3.6.3"
  }
 },
 "nbformat": 4,
 "nbformat_minor": 2
}
