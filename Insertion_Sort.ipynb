{
 "cells": [
  {
   "cell_type": "code",
   "execution_count": 11,
   "metadata": {},
   "outputs": [
    {
     "name": "stdout",
     "output_type": "stream",
     "text": [
      "Enter the size of the array :4\n",
      "[  3.7009808   31.77686815  38.7432118  100.54626646]\n"
     ]
    }
   ],
   "source": [
    "import numpy as np\n",
    "size=int(input(\"Enter the size of the array :\"))\n",
    "array=np.square(np.random.randn(size))*100\n",
    "# array=[None]*size\n",
    "# for i in range(size):\n",
    "#     array[i]=int(input(\"Enter the element :\"))\n",
    "for j in range(1,size):\n",
    "    \n",
    "    key=array[j]\n",
    "    i=j-1\n",
    "    while(i>=0 and array[i]>key):\n",
    "        array[i+1]=array[i]\n",
    "        i=i-1\n",
    "    array[i+1]=key\n",
    "print(array)\n",
    "\n",
    "    "
   ]
  },
  {
   "cell_type": "code",
   "execution_count": null,
   "metadata": {
    "collapsed": true
   },
   "outputs": [],
   "source": [
    "### "
   ]
  }
 ],
 "metadata": {
  "kernelspec": {
   "display_name": "Python 3",
   "language": "python",
   "name": "python3"
  },
  "language_info": {
   "codemirror_mode": {
    "name": "ipython",
    "version": 3
   },
   "file_extension": ".py",
   "mimetype": "text/x-python",
   "name": "python",
   "nbconvert_exporter": "python",
   "pygments_lexer": "ipython3",
   "version": "3.6.3"
  }
 },
 "nbformat": 4,
 "nbformat_minor": 2
}
