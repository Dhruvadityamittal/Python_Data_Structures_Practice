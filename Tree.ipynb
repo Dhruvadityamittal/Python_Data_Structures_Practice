{
 "cells": [
  {
   "cell_type": "code",
   "execution_count": 113,
   "metadata": {
    "collapsed": true
   },
   "outputs": [],
   "source": [
    "class node:\n",
    "    def __init__(self,data,right,left):\n",
    "        self.data=data\n",
    "        self.right =  None\n",
    "        self.left  =  None"
   ]
  },
  {
   "cell_type": "code",
   "execution_count": 114,
   "metadata": {},
   "outputs": [],
   "source": [
    "def make_tree(head,node):\n",
    "    \n",
    "    while(head!=None):\n",
    "        y=head\n",
    "        if(head.data > node.data):\n",
    "            head=head.left\n",
    "        else:\n",
    "            head=head.right\n",
    "    if(y.data>node.data):\n",
    "        y.left=node\n",
    "    else:\n",
    "        y.right=node\n",
    "        \n",
    "        "
   ]
  },
  {
   "cell_type": "code",
   "execution_count": 115,
   "metadata": {},
   "outputs": [],
   "source": [
    "head=node(4,None,None)\n",
    "l1=node(2,None,None)\n",
    "tree(head,l1)\n",
    "l2=node(5,None,None)\n",
    "tree(head,l2)\n",
    "l3=node(1,None,None)\n",
    "tree(head,l3)\n",
    "l4=node(7,None,None)\n",
    "tree(head,l4)\n",
    "l5=node(6,None,None)\n",
    "tree(head,l5)\n",
    "l6=node(8,None,None)\n",
    "tree(head,l6)\n"
   ]
  },
  {
   "cell_type": "code",
   "execution_count": 116,
   "metadata": {
    "scrolled": true
   },
   "outputs": [
    {
     "name": "stdout",
     "output_type": "stream",
     "text": [
      "4 <__main__.node object at 0x7f28445afa58> <__main__.node object at 0x7f28445afdd8>\n",
      "5 <__main__.node object at 0x7f28445dd358> None\n",
      "7 <__main__.node object at 0x7f28445dd208> <__main__.node object at 0x7f28445dd550>\n",
      "8 None None\n"
     ]
    }
   ],
   "source": [
    "temp=head\n",
    "while(temp!=None):\n",
    "    print(temp.data,temp.right,temp.left)\n",
    "    temp=temp.right\n"
   ]
  },
  {
   "cell_type": "code",
   "execution_count": 117,
   "metadata": {},
   "outputs": [
    {
     "name": "stdout",
     "output_type": "stream",
     "text": [
      "4 <__main__.node object at 0x7f28445afa58> <__main__.node object at 0x7f28445afdd8>\n",
      "2 None <__main__.node object at 0x7f28445afeb8>\n",
      "1 None None\n"
     ]
    }
   ],
   "source": [
    "temp=head\n",
    "while(temp!=None):\n",
    "    print(temp.data,temp.right,temp.left)\n",
    "    temp=temp.left\n"
   ]
  },
  {
   "cell_type": "code",
   "execution_count": 106,
   "metadata": {},
   "outputs": [
    {
     "name": "stdout",
     "output_type": "stream",
     "text": [
      "1\n",
      "2\n",
      "4\n",
      "5\n",
      "6\n",
      "7\n",
      "8\n"
     ]
    }
   ],
   "source": [
    "temp=head\n",
    "def inorder(temp):\n",
    "    if (temp!=None):\n",
    "        inorder(temp.left)\n",
    "        print(temp.data)\n",
    "        inorder(temp.right)\n",
    "inorder(temp)        "
   ]
  },
  {
   "cell_type": "code",
   "execution_count": 110,
   "metadata": {},
   "outputs": [
    {
     "name": "stdout",
     "output_type": "stream",
     "text": [
      "4\n",
      "2\n",
      "1\n",
      "5\n",
      "7\n",
      "6\n",
      "8\n"
     ]
    }
   ],
   "source": [
    "temp=head\n",
    "def preorder(temp):\n",
    "    if (temp!=None):\n",
    "        print(temp.data)\n",
    "        preorder(temp.left)\n",
    "        preorder(temp.right)\n",
    "        \n",
    "preorder(temp)   "
   ]
  },
  {
   "cell_type": "code",
   "execution_count": 111,
   "metadata": {},
   "outputs": [
    {
     "name": "stdout",
     "output_type": "stream",
     "text": [
      "1\n",
      "2\n",
      "6\n",
      "8\n",
      "7\n",
      "5\n",
      "4\n"
     ]
    }
   ],
   "source": [
    "temp=head\n",
    "def postorder(temp):\n",
    "    if (temp!=None):\n",
    "        \n",
    "        postorder(temp.left)\n",
    "        postorder(temp.right)\n",
    "        print(temp.data)\n",
    "postorder(temp)   "
   ]
  },
  {
   "cell_type": "code",
   "execution_count": null,
   "metadata": {
    "collapsed": true
   },
   "outputs": [],
   "source": []
  }
 ],
 "metadata": {
  "kernelspec": {
   "display_name": "Python 3",
   "language": "python",
   "name": "python3"
  },
  "language_info": {
   "codemirror_mode": {
    "name": "ipython",
    "version": 3
   },
   "file_extension": ".py",
   "mimetype": "text/x-python",
   "name": "python",
   "nbconvert_exporter": "python",
   "pygments_lexer": "ipython3",
   "version": "3.6.3"
  }
 },
 "nbformat": 4,
 "nbformat_minor": 2
}
