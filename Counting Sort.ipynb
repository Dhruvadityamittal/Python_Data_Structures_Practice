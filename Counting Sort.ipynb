{
 "cells": [
  {
   "cell_type": "code",
   "execution_count": 56,
   "metadata": {},
   "outputs": [
    {
     "name": "stdout",
     "output_type": "stream",
     "text": [
      "Enter the size of the array :10\n"
     ]
    }
   ],
   "source": [
    "import numpy as np\n",
    "a=[]\n",
    "for i in range(int(input(\"Enter the size of the array :\"))):\n",
    "    a.append(int(abs(np.random.randn()*10)))\n",
    "# a=[2,5,3,0,2,3,0,3]\n",
    "# a=[2,400]"
   ]
  },
  {
   "cell_type": "code",
   "execution_count": 57,
   "metadata": {},
   "outputs": [],
   "source": [
    "mx=max(a)\n",
    "mn=min(a)"
   ]
  },
  {
   "cell_type": "code",
   "execution_count": 58,
   "metadata": {},
   "outputs": [
    {
     "name": "stdout",
     "output_type": "stream",
     "text": [
      "Input Array : [6, 3, 12, 10, 9, 5, 16, 2, 7, 16]\n",
      "Count of each element(according to index) : [0, 0, 1, 1, 0, 1, 1, 1, 0, 1, 1, 0, 1, 0, 0, 0, 2]\n",
      "Elements < than the element(according to the index) : [0, 0, 1, 2, 2, 3, 4, 5, 5, 6, 7, 7, 8, 8, 8, 8, 10]\n",
      "[0, 0, 0, 0, 0, 0, 0, 0, 0, 0]\n",
      "[0, 0, 0, 0, 0, 0, 0, 0, 0, 16]\n",
      "[0, 0, 0, 0, 7, 0, 0, 0, 0, 16]\n",
      "[2, 0, 0, 0, 7, 0, 0, 0, 0, 16]\n",
      "[2, 0, 0, 0, 7, 0, 0, 0, 16, 16]\n",
      "[2, 0, 5, 0, 7, 0, 0, 0, 16, 16]\n",
      "[2, 0, 5, 0, 7, 9, 0, 0, 16, 16]\n",
      "[2, 0, 5, 0, 7, 9, 10, 0, 16, 16]\n",
      "[2, 0, 5, 0, 7, 9, 10, 12, 16, 16]\n",
      "[2, 3, 5, 0, 7, 9, 10, 12, 16, 16]\n",
      "Sorted Array : [2, 3, 5, 6, 7, 9, 10, 12, 16, 16]\n"
     ]
    }
   ],
   "source": [
    "print(\"Input Array :\",a)\n",
    "c=[0]*(mx+1)\n",
    "b=[0]*len(a)\n",
    "\n",
    "for j in range(0,len(a)):\n",
    "    c[a[j]]=c[a[j]]+1\n",
    "print(\"Count of each element(according to index) :\",c)\n",
    "for i in range(1,len(c)):\n",
    "    c[i]=c[i]+c[i-1]\n",
    "print(\"Elements < than the element(according to the index) :\",c)\n",
    "\n",
    "for j in range(len(a)-1,-1,-1):\n",
    "    print(b)\n",
    "    b[c[a[j]]-1]=a[j]\n",
    "    c[a[j]]=c[a[j]]-1\n",
    "    \n",
    "print(\"Sorted Array :\",b)"
   ]
  },
  {
   "cell_type": "code",
   "execution_count": 27,
   "metadata": {},
   "outputs": [
    {
     "name": "stdout",
     "output_type": "stream",
     "text": [
      "5\n",
      "4\n",
      "3\n",
      "2\n",
      "1\n",
      "0\n"
     ]
    }
   ],
   "source": []
  },
  {
   "cell_type": "code",
   "execution_count": null,
   "metadata": {
    "collapsed": true
   },
   "outputs": [],
   "source": []
  }
 ],
 "metadata": {
  "kernelspec": {
   "display_name": "Python 3",
   "language": "python",
   "name": "python3"
  },
  "language_info": {
   "codemirror_mode": {
    "name": "ipython",
    "version": 3
   },
   "file_extension": ".py",
   "mimetype": "text/x-python",
   "name": "python",
   "nbconvert_exporter": "python",
   "pygments_lexer": "ipython3",
   "version": "3.6.3"
  }
 },
 "nbformat": 4,
 "nbformat_minor": 2
}
