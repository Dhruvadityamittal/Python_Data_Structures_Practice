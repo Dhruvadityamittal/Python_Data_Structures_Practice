{
 "cells": [
  {
   "cell_type": "code",
   "execution_count": 20,
   "metadata": {
    "collapsed": true
   },
   "outputs": [],
   "source": [
    "class node:\n",
    "    def __init__(self):\n",
    "        self.data=int(input(\"Enter the data in the node ( Press -1 to terminate )\"))\n",
    "        self.right =  None\n",
    "        self.left  =  None"
   ]
  },
  {
   "cell_type": "code",
   "execution_count": 110,
   "metadata": {
    "collapsed": true
   },
   "outputs": [],
   "source": [
    "def make_tree(head):\n",
    "    y=head\n",
    "    while(1):\n",
    "        head=y\n",
    "        new_node=node()\n",
    "        if(new_node.data == -1):\n",
    "            break\n",
    "        \n",
    "           \n",
    "        while(head!=None):\n",
    "\n",
    "            a=head\n",
    "            if(head.data > new_node.data):\n",
    "                head=head.left\n",
    "            else:\n",
    "                head=head.right\n",
    "                \n",
    "        if(a.data>new_node.data):\n",
    "            a.left=new_node\n",
    "        else:\n",
    "            a.right=new_node\n",
    "def traverse_right(head):\n",
    "    print(\"Right Traversing\")\n",
    "\n",
    "    temp=head\n",
    "    while(temp.right!=None):\n",
    "        if(temp.data!=None):\n",
    "            print(temp.data,temp.right,temp.left)\n",
    "        temp=temp.right\n",
    "def traverse_left(head):\n",
    "    print(\"Right Traversing\")\n",
    "    temp=head\n",
    "    while(temp.left!=None):\n",
    "        if(temp.data!=None):\n",
    "            print(temp.data,temp.right,temp.left)\n",
    "        temp=temp.left\n",
    "\n",
    "def inorder(temp):\n",
    "    if (temp!=None):\n",
    "        inorder(temp.left)\n",
    "        if(temp.data!=None):\n",
    "            print(temp.data)\n",
    "        inorder(temp.right)\n",
    "\n",
    "def preorder(temp):\n",
    "    if (temp!=None):\n",
    "        if(temp.data!=None):\n",
    "            print(temp.data)\n",
    "        preorder(temp.left)\n",
    "        preorder(temp.right)\n",
    "        \n",
    "def postorder(temp):\n",
    "    \n",
    "    if (temp!=None):\n",
    "        \n",
    "        postorder(temp.left)\n",
    "        postorder(temp.right)\n",
    "        if(temp.data!=None):\n",
    "            print(temp.data)\n",
    "        \n",
    "def minValueNode(node):\n",
    "    temp=node\n",
    "    while(temp.left!=None):\n",
    "        temp=temp.left\n",
    "    return temp\n",
    "\n",
    "def deleteNode(head,key):\n",
    "    \n",
    "    if(head==None):\n",
    "        return head\n",
    "    elif(key< head.data):\n",
    "        deleteNode(head.left,key)\n",
    "    elif(key>head.data):\n",
    "        deleteNode(head.right,key)\n",
    "    else:\n",
    "        #head.data=-head.data\n",
    "        print(\"Found the element \",head.data)\n",
    "        \n",
    "        \n",
    "        if(head.left == None and head.right == None):\n",
    "            head.left=None\n",
    "            head.data=None\n",
    "            head.right=None\n",
    "            \n",
    "        \n",
    "        elif(head.left == None and head.right!=None):\n",
    "            print(\"I m here\")\n",
    "            head.data=None            \n",
    "            \n",
    "            \n",
    "        elif(head.left !=None and head.right==None):\n",
    "            \n",
    "            head.data=None\n",
    "            \n",
    "            \n",
    "            \n",
    "        else:\n",
    "            \n",
    "            temp=minValueNode(head.right)\n",
    "            head.data=temp.data\n",
    "            temp.data=None\n",
    "            \n",
    "            \n",
    "            \n",
    "        \n",
    "            \n",
    "    \n",
    "    \n",
    "\n",
    "        "
   ]
  },
  {
   "cell_type": "code",
   "execution_count": 111,
   "metadata": {},
   "outputs": [
    {
     "name": "stdout",
     "output_type": "stream",
     "text": [
      "Enter the data in the node ( Press -1 to terminate )6\n",
      "Enter the data in the node ( Press -1 to terminate )2\n",
      "Enter the data in the node ( Press -1 to terminate )11\n",
      "Enter the data in the node ( Press -1 to terminate )1\n",
      "Enter the data in the node ( Press -1 to terminate )8\n",
      "Enter the data in the node ( Press -1 to terminate )15\n",
      "Enter the data in the node ( Press -1 to terminate )9\n",
      "Enter the data in the node ( Press -1 to terminate )10\n",
      "Enter the data in the node ( Press -1 to terminate )-1\n"
     ]
    }
   ],
   "source": [
    "head=node()\n",
    "make_tree(head)"
   ]
  },
  {
   "cell_type": "code",
   "execution_count": 112,
   "metadata": {},
   "outputs": [
    {
     "name": "stdout",
     "output_type": "stream",
     "text": [
      "1\n"
     ]
    }
   ],
   "source": [
    "min_value=minValueNode(head)\n",
    "print(min_value.data)"
   ]
  },
  {
   "cell_type": "code",
   "execution_count": 113,
   "metadata": {},
   "outputs": [
    {
     "name": "stdout",
     "output_type": "stream",
     "text": [
      "Found the element  6\n",
      "1\n",
      "2\n",
      "8\n",
      "9\n",
      "10\n",
      "11\n",
      "15\n"
     ]
    }
   ],
   "source": [
    "value=deleteNode(head,6)\n",
    "inorder(head)\n"
   ]
  },
  {
   "cell_type": "code",
   "execution_count": 75,
   "metadata": {},
   "outputs": [
    {
     "name": "stdout",
     "output_type": "stream",
     "text": [
      "Right Traversing\n",
      "1 <__main__.node object at 0x7f80acc4b3c8> None\n",
      "2 <__main__.node object at 0x7f80acc4bc18> None\n",
      "5 <__main__.node object at 0x7f80acc4bcf8> <__main__.node object at 0x7f80acc4b048>\n"
     ]
    }
   ],
   "source": [
    "traverse_right(head)"
   ]
  },
  {
   "cell_type": "code",
   "execution_count": null,
   "metadata": {
    "collapsed": true
   },
   "outputs": [],
   "source": []
  },
  {
   "cell_type": "code",
   "execution_count": 111,
   "metadata": {},
   "outputs": [
    {
     "name": "stdout",
     "output_type": "stream",
     "text": [
      "1\n",
      "2\n",
      "6\n",
      "8\n",
      "7\n",
      "5\n",
      "4\n"
     ]
    }
   ],
   "source": [
    "temp=head\n",
    "\n",
    "postorder(temp)   "
   ]
  },
  {
   "cell_type": "code",
   "execution_count": null,
   "metadata": {
    "collapsed": true
   },
   "outputs": [],
   "source": []
  },
  {
   "cell_type": "code",
   "execution_count": null,
   "metadata": {
    "collapsed": true
   },
   "outputs": [],
   "source": []
  },
  {
   "cell_type": "code",
   "execution_count": null,
   "metadata": {
    "collapsed": true
   },
   "outputs": [],
   "source": []
  }
 ],
 "metadata": {
  "kernelspec": {
   "display_name": "Python 3",
   "language": "python",
   "name": "python3"
  },
  "language_info": {
   "codemirror_mode": {
    "name": "ipython",
    "version": 3
   },
   "file_extension": ".py",
   "mimetype": "text/x-python",
   "name": "python",
   "nbconvert_exporter": "python",
   "pygments_lexer": "ipython3",
   "version": "3.6.3"
  }
 },
 "nbformat": 4,
 "nbformat_minor": 2
}
