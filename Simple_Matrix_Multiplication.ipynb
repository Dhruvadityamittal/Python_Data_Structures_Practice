{
 "cells": [
  {
   "cell_type": "code",
   "execution_count": 87,
   "metadata": {},
   "outputs": [
    {
     "name": "stdout",
     "output_type": "stream",
     "text": [
      "Enter the size of the square matrix :2\n",
      "Enter the elements of matrix A\n"
     ]
    }
   ],
   "source": [
    "import numpy as np\n",
    "size=int(input(\"Enter the size of the square matrix :\"))\n",
    "A=[[0]*size]*size\n",
    "B=[[0]*size]*size\n",
    "C=[[0]*size]*size\n",
    "\n",
    "print(\"Enter the elements of matrix A\")\n",
    "A=np.asarray(A)\n",
    "B=np.asarray(B)\n",
    "C=np.asarray(C)"
   ]
  },
  {
   "cell_type": "code",
   "execution_count": 88,
   "metadata": {},
   "outputs": [
    {
     "name": "stdout",
     "output_type": "stream",
     "text": [
      "Enter the element [1 1] :1\n",
      "Enter the element [1 2] :2\n",
      "Enter the element [2 1] :3\n",
      "Enter the element [2 2] :4\n",
      "Enter the elements of matrix B\n",
      "\n",
      "Enter the element [1 1] :2\n",
      "Enter the element [1 2] :0\n",
      "Enter the element [2 1] :1\n",
      "Enter the element [2 2] :2\n",
      "[[2 0]\n",
      " [1 2]]\n"
     ]
    }
   ],
   "source": [
    "for i in range(size):\n",
    "    for j in range(size):\n",
    "        A[i][j]=int(input(\"Enter the element [\"+str(i+1)+\" \"+str(j+1)+\"] :\"))\n",
    "\n",
    "print(\"Enter the elements of matrix B\")\n",
    "print()\n",
    "for i in range(size):\n",
    "    for j in range(size):\n",
    "        B[i][j]=int(input(\"Enter the element [\"+str(i+1)+\" \"+str(j+1)+\"] :\"))\n"
   ]
  },
  {
   "cell_type": "code",
   "execution_count": 89,
   "metadata": {},
   "outputs": [
    {
     "name": "stdout",
     "output_type": "stream",
     "text": [
      "[[1 2]\n",
      " [3 4]]\n",
      "[[2 0]\n",
      " [1 2]]\n",
      "C= A*B\n",
      "[[ 4  4]\n",
      " [10  8]]\n"
     ]
    }
   ],
   "source": [
    "\n",
    "for i in range(size):\n",
    "    for j in range(size):\n",
    "        for k in range(size):\n",
    "            C[i][j]=C[i][j]+A[i][k]*B[k][j]\n",
    "print(\"C= A*B\")\n",
    "print(C)"
   ]
  },
  {
   "cell_type": "code",
   "execution_count": null,
   "metadata": {},
   "outputs": [],
   "source": []
  },
  {
   "cell_type": "code",
   "execution_count": null,
   "metadata": {
    "collapsed": true
   },
   "outputs": [],
   "source": []
  },
  {
   "cell_type": "code",
   "execution_count": null,
   "metadata": {
    "collapsed": true
   },
   "outputs": [],
   "source": []
  }
 ],
 "metadata": {
  "kernelspec": {
   "display_name": "Python 3",
   "language": "python",
   "name": "python3"
  },
  "language_info": {
   "codemirror_mode": {
    "name": "ipython",
    "version": 3
   },
   "file_extension": ".py",
   "mimetype": "text/x-python",
   "name": "python",
   "nbconvert_exporter": "python",
   "pygments_lexer": "ipython3",
   "version": "3.6.3"
  }
 },
 "nbformat": 4,
 "nbformat_minor": 2
}
