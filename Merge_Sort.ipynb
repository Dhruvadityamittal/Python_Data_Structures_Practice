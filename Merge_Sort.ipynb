{
 "cells": [
  {
   "cell_type": "code",
   "execution_count": 1,
   "metadata": {},
   "outputs": [
    {
     "name": "stdout",
     "output_type": "stream",
     "text": [
      "Enter the size of the array :4\n",
      "1 1\n",
      "1 1\n",
      "2 2\n",
      "[ [-12.15063878  -4.16797158  -3.19561225  11.0406098 ] ]\n"
     ]
    }
   ],
   "source": [
    "def merge_sort(array,p,r):\n",
    "    \n",
    "    if(p<r):\n",
    "        q=int((p+r)/2)\n",
    "        merge_sort(array,p,q)\n",
    "        merge_sort(array,q+1,r)\n",
    "        merge(array,p,q,r)\n",
    "\n",
    "def merge(array,p,q,r):\n",
    "    \n",
    "    n1=q-p+1\n",
    "    n2=r-q\n",
    "    #print(n1,n2)\n",
    "    L=[None]*(n1+1)\n",
    "    R=[None]*(n2+1)\n",
    "    for i in range(n1):\n",
    "        L[i]=array[p+i]\n",
    "    \n",
    "    for j in range(n2):\n",
    "        R[j]=array[q+j+1]\n",
    "    \n",
    "    L[n1]=1000000\n",
    "    R[n2]=1000000\n",
    "    \n",
    "    i=0\n",
    "    j=0\n",
    "    \n",
    "    for k in range(p,r+1):\n",
    "        if(L[i]<=R[j]):\n",
    "            array[k]=L[i]\n",
    "            i=i+1\n",
    "            \n",
    "        else:\n",
    "            array[k]=R[j]\n",
    "            j=j+1\n",
    "            \n",
    "\n",
    "import numpy as np\n",
    "size=int(input(\"Enter the size of the array :\"))\n",
    "#array=[None]*size\n",
    "# for i in range(size):\n",
    "#     array[i]=int(input(\"Enter the element :\"))\n",
    "array=np.random.randn(size)*-10\n",
    "r=size\n",
    "merge_sort(array,0,r-1)\n",
    "\n",
    "print(\"[\",array,\"]\")\n"
   ]
  },
  {
   "cell_type": "code",
   "execution_count": null,
   "metadata": {
    "collapsed": true
   },
   "outputs": [],
   "source": []
  },
  {
   "cell_type": "code",
   "execution_count": null,
   "metadata": {
    "collapsed": true
   },
   "outputs": [],
   "source": []
  },
  {
   "cell_type": "code",
   "execution_count": null,
   "metadata": {
    "collapsed": true
   },
   "outputs": [],
   "source": []
  }
 ],
 "metadata": {
  "kernelspec": {
   "display_name": "Python 3",
   "language": "python",
   "name": "python3"
  },
  "language_info": {
   "codemirror_mode": {
    "name": "ipython",
    "version": 3
   },
   "file_extension": ".py",
   "mimetype": "text/x-python",
   "name": "python",
   "nbconvert_exporter": "python",
   "pygments_lexer": "ipython3",
   "version": "3.6.3"
  }
 },
 "nbformat": 4,
 "nbformat_minor": 2
}
