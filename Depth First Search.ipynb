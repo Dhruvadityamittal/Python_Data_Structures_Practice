{
 "cells": [
  {
   "cell_type": "code",
   "execution_count": 29,
   "metadata": {
    "collapsed": true
   },
   "outputs": [],
   "source": [
    "from collections import defaultdict"
   ]
  },
  {
   "cell_type": "code",
   "execution_count": 30,
   "metadata": {
    "collapsed": true
   },
   "outputs": [],
   "source": [
    "graph=defaultdict(list)\n",
    "\n",
    "def add_edge(graph,u,v):\n",
    "    graph[u].append(v)\n",
    "def dfs_util(graph,source,visited):\n",
    "    visited[source]=True\n",
    "    print(source)\n",
    "    \n",
    "    for i in graph[source]:\n",
    "        if(visited[i]==False):\n",
    "            dfs_util(graph,i,visited)\n",
    "    \n",
    "    \n",
    "def dfs(graph,source):\n",
    "    visited=[False]*len(graph)\n",
    "    dfs_util(graph,source,visited)"
   ]
  },
  {
   "cell_type": "code",
   "execution_count": 31,
   "metadata": {},
   "outputs": [],
   "source": [
    "# add_edge(graph,0,1)\n",
    "# add_edge(graph,0,2)\n",
    "\n",
    "# add_edge(graph,1,4)\n",
    "# add_edge(graph,1,0)\n",
    "# add_edge(graph,1,3)\n",
    "\n",
    "# add_edge(graph,2,0)\n",
    "# add_edge(graph,2,4)\n",
    "\n",
    "# add_edge(graph,3,1)\n",
    "# add_edge(graph,3,5)\n",
    "\n",
    "# add_edge(graph,4,2)\n",
    "# add_edge(graph,4,5)\n",
    "# add_edge(graph,4,1)\n",
    "\n",
    "# add_edge(graph,5,3)\n",
    "# add_edge(graph,5,4)\n",
    "add_edge(graph,0, 1) \n",
    "add_edge(graph,0, 2) \n",
    "add_edge(graph,1, 2) \n",
    "add_edge(graph,2, 0) \n",
    "add_edge(graph,2, 3) \n",
    "add_edge(graph,3, 3) \n"
   ]
  },
  {
   "cell_type": "code",
   "execution_count": 33,
   "metadata": {},
   "outputs": [
    {
     "name": "stdout",
     "output_type": "stream",
     "text": [
      "2\n",
      "0\n",
      "1\n",
      "3\n"
     ]
    }
   ],
   "source": [
    "dfs(graph,2)"
   ]
  },
  {
   "cell_type": "code",
   "execution_count": null,
   "metadata": {
    "collapsed": true
   },
   "outputs": [],
   "source": []
  }
 ],
 "metadata": {
  "kernelspec": {
   "display_name": "Python 3",
   "language": "python",
   "name": "python3"
  },
  "language_info": {
   "codemirror_mode": {
    "name": "ipython",
    "version": 3
   },
   "file_extension": ".py",
   "mimetype": "text/x-python",
   "name": "python",
   "nbconvert_exporter": "python",
   "pygments_lexer": "ipython3",
   "version": "3.6.3"
  }
 },
 "nbformat": 4,
 "nbformat_minor": 2
}
