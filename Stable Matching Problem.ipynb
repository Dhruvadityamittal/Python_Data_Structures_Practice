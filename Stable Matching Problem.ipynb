{
 "cells": [
  {
   "cell_type": "code",
   "execution_count": 241,
   "metadata": {},
   "outputs": [],
   "source": [
    "men_priority   =   [[0,1,2,3],[0,1,2,3],[3,0,2,1],[2,3,0,1]]\n",
    "women_priority =   [[3,1,0,2],[1,2,3,0],[0,3,1,2],[2,0,1,3]]\n",
    "\n"
   ]
  },
  {
   "cell_type": "code",
   "execution_count": 242,
   "metadata": {},
   "outputs": [
    {
     "name": "stdout",
     "output_type": "stream",
     "text": [
      "[-1, -1, -1, -1]\n"
     ]
    }
   ],
   "source": [
    "women_engaged =[-1]*len(women_priority)\n",
    "men_engaged   =[-1]*len(men_priority)\n",
    "print(men_engaged)\n"
   ]
  },
  {
   "cell_type": "code",
   "execution_count": 243,
   "metadata": {},
   "outputs": [
    {
     "name": "stdout",
     "output_type": "stream",
     "text": [
      "0\n",
      "Men Priorities are : [0, 1, 2, 3]\n",
      "[-1, -1, -1, -1]\n",
      "[-1, -1, -1, -1]\n",
      "Women Priorities are :  [3, 1, 0, 2]\n",
      "Engaged Man 0 with Women 0\n",
      "[0, -1, -1, -1]\n",
      "[0, -1, -1, -1]\n",
      "1\n",
      "Men Priorities are : [0, 1, 2, 3]\n",
      "[0, -1, -1, -1]\n",
      "[0, -1, -1, -1]\n",
      "Women Priorities are :  [3, 1, 0, 2]\n",
      "Initial Men Index  2\n",
      "Women Index for new men 1\n",
      "Engagement of men 0 Canceled with women 0\n",
      "[-1, 0, -1, -1]\n",
      "[1, -1, -1, -1]\n",
      "0\n",
      "Men Priorities are : [0, 1, 2, 3]\n",
      "[-1, 0, -1, -1]\n",
      "[1, -1, -1, -1]\n",
      "Women Priorities are :  [3, 1, 0, 2]\n",
      "Initial Men Index  1\n",
      "Women Index for new men 2\n",
      "Women Priorities are :  [1, 2, 3, 0]\n",
      "Engaged Man 0 with Women 1\n",
      "[1, 0, -1, -1]\n",
      "[1, 0, -1, -1]\n",
      "2\n",
      "Men Priorities are : [3, 0, 2, 1]\n",
      "[1, 0, -1, -1]\n",
      "[1, 0, -1, -1]\n",
      "Women Priorities are :  [2, 0, 1, 3]\n",
      "Engaged Man 2 with Women 3\n",
      "[1, 0, 3, -1]\n",
      "[1, 0, -1, 2]\n",
      "3\n",
      "Men Priorities are : [2, 3, 0, 1]\n",
      "[1, 0, 3, -1]\n",
      "[1, 0, -1, 2]\n",
      "Women Priorities are :  [0, 3, 1, 2]\n",
      "Engaged Man 3 with Women 2\n",
      "[1, 0, 3, 2]\n",
      "[1, 0, 3, 2]\n"
     ]
    }
   ],
   "source": [
    "\n",
    "while(men_engaged.count(-1)!=0):\n",
    "    men_index=men_engaged.index(-1)    #men index who is free\n",
    "    print(men_index)\n",
    "    men=men_priority[men_index]       #finding the men in the priority list\n",
    "    print(\"Men Priorities are :\",men)\n",
    "    initial_men_priority_index=0       #setting the initial priority of the men i.e best priority\n",
    "    \n",
    "    print(men_engaged)\n",
    "    print(women_engaged)\n",
    "    \n",
    "    \n",
    "    while(initial_men_priority_index<=3):\n",
    "        women_index=men[initial_men_priority_index] #finding the women index according to his initial priority \n",
    "        women=women_priority[women_index]           #finding the women\n",
    "        print(\"Women Priorities are : \",women)\n",
    "        \n",
    "        if(women_engaged[women_index]==-1): #women is not engaged to anyone and do the engagement\n",
    "            men_engaged[men_index]=women_index    #adding women index to men engaged\n",
    "            women_engaged[women_index]=men_index  #adding men index to women engaged\n",
    "            print(\"Engaged Man\",men_index,\"with Women\",women_index)\n",
    "            print(men_engaged)\n",
    "            print(women_engaged)\n",
    "            break\n",
    "        else:\n",
    "            print(\"Initial Men Index \",women.index(women_engaged[women_index]))\n",
    "            print(\"Women Index for new men\",women.index(men_index))\n",
    "            if(women.index(women_engaged[women_index]) > women.index(men_index)):\n",
    "                print(\"Engagement of men\",initial_men_priority_index,\"Canceled with women\",women_index)\n",
    "                men_engaged[men_engaged.index(women_index)]=-1\n",
    "                men_engaged[men_index]=women_index\n",
    "                women_engaged[women_index]=men_index\n",
    "                print(men_engaged)\n",
    "                print(women_engaged)\n",
    "                break\n",
    "            else:\n",
    "                initial_men_priority_index=initial_men_priority_index+1\n",
    "        "
   ]
  },
  {
   "cell_type": "code",
   "execution_count": 244,
   "metadata": {},
   "outputs": [
    {
     "name": "stdout",
     "output_type": "stream",
     "text": [
      "[1, 0, 3, 2]\n",
      "[1, 0, 3, 2]\n"
     ]
    }
   ],
   "source": [
    "print(men_engaged)\n",
    "print(women_engaged)"
   ]
  },
  {
   "cell_type": "code",
   "execution_count": null,
   "metadata": {
    "collapsed": true
   },
   "outputs": [],
   "source": []
  }
 ],
 "metadata": {
  "kernelspec": {
   "display_name": "Python 3",
   "language": "python",
   "name": "python3"
  },
  "language_info": {
   "codemirror_mode": {
    "name": "ipython",
    "version": 3
   },
   "file_extension": ".py",
   "mimetype": "text/x-python",
   "name": "python",
   "nbconvert_exporter": "python",
   "pygments_lexer": "ipython3",
   "version": "3.6.3"
  }
 },
 "nbformat": 4,
 "nbformat_minor": 2
}
