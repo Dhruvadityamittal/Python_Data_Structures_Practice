{
 "cells": [
  {
   "cell_type": "code",
   "execution_count": 10,
   "metadata": {
    "collapsed": true
   },
   "outputs": [],
   "source": [
    "def PARENT(i):\n",
    "    return int((i-1)/2)\n",
    "def Left(i):\n",
    "    return int((2*i)+1)\n",
    "def Right(i):\n",
    "    return int((2*i)+2)\n"
   ]
  },
  {
   "cell_type": "code",
   "execution_count": 27,
   "metadata": {},
   "outputs": [],
   "source": [
    "def max_heapify(A,i):\n",
    "    l=Left(i)\n",
    "    r=Right(i)\n",
    "    heap_size=len(A)\n",
    "    print()\n",
    "    print(\"i: \",i)\n",
    "    print(\"Left: \",l)\n",
    "    print(\"Right :\",r)\n",
    "    \n",
    "    if(l<heap_size and A[l]>A[i]):\n",
    "        largest=l\n",
    "        print(\"Largest :\",largest)\n",
    "    else:\n",
    "        largest=i\n",
    "        print(\"Largest :\",largest)\n",
    "    \n",
    "    if(r<heap_size and A[r]>A[largest]):\n",
    "        largest=r\n",
    "        print(\"Largest :\",largest)\n",
    "    \n",
    "    if(largest!=i):\n",
    "        temp=A[i]\n",
    "        A[i]=A[largest]\n",
    "        A[largest]=temp\n",
    "        max_heapify(A,largest)\n",
    "    \n",
    "        "
   ]
  },
  {
   "cell_type": "code",
   "execution_count": 28,
   "metadata": {
    "collapsed": true
   },
   "outputs": [],
   "source": [
    "def build_max_heap(A):\n",
    "    heap_size=len(A)\n",
    "#     print(heap_size)\n",
    "    for i in range(int(len(A)/2),-1,-1):\n",
    "#         print(i)\n",
    "        max_heapify(A,i)\n",
    "    return array"
   ]
  },
  {
   "cell_type": "code",
   "execution_count": 29,
   "metadata": {},
   "outputs": [
    {
     "name": "stdout",
     "output_type": "stream",
     "text": [
      "\n",
      "i:  5\n",
      "Left:  11\n",
      "Right : 12\n",
      "Largest : 5\n",
      "\n",
      "i:  4\n",
      "Left:  9\n",
      "Right : 10\n",
      "Largest : 4\n",
      "\n",
      "i:  3\n",
      "Left:  7\n",
      "Right : 8\n",
      "Largest : 7\n",
      "\n",
      "i:  7\n",
      "Left:  15\n",
      "Right : 16\n",
      "Largest : 7\n",
      "\n",
      "i:  2\n",
      "Left:  5\n",
      "Right : 6\n",
      "Largest : 5\n",
      "Largest : 6\n",
      "\n",
      "i:  6\n",
      "Left:  13\n",
      "Right : 14\n",
      "Largest : 6\n",
      "\n",
      "i:  1\n",
      "Left:  3\n",
      "Right : 4\n",
      "Largest : 3\n",
      "Largest : 4\n",
      "\n",
      "i:  4\n",
      "Left:  9\n",
      "Right : 10\n",
      "Largest : 9\n",
      "\n",
      "i:  9\n",
      "Left:  19\n",
      "Right : 20\n",
      "Largest : 9\n",
      "\n",
      "i:  0\n",
      "Left:  1\n",
      "Right : 2\n",
      "Largest : 1\n",
      "\n",
      "i:  1\n",
      "Left:  3\n",
      "Right : 4\n",
      "Largest : 3\n",
      "\n",
      "i:  3\n",
      "Left:  7\n",
      "Right : 8\n",
      "Largest : 3\n",
      "Largest : 8\n",
      "\n",
      "i:  8\n",
      "Left:  17\n",
      "Right : 18\n",
      "Largest : 8\n",
      "[16, 14, 10, 8, 7, 9, 3, 2, 4, 1]\n"
     ]
    }
   ],
   "source": [
    "array=[4,1,3,2,16,9,10,14,8,7]\n",
    "#array=[35,33,42,10,14,19,27,44,26,31]\n",
    "array=build_max_heap(array)\n",
    "print(array)"
   ]
  },
  {
   "cell_type": "code",
   "execution_count": null,
   "metadata": {
    "collapsed": true
   },
   "outputs": [],
   "source": []
  },
  {
   "cell_type": "code",
   "execution_count": null,
   "metadata": {
    "collapsed": true
   },
   "outputs": [],
   "source": []
  }
 ],
 "metadata": {
  "kernelspec": {
   "display_name": "Python 3",
   "language": "python",
   "name": "python3"
  },
  "language_info": {
   "codemirror_mode": {
    "name": "ipython",
    "version": 3
   },
   "file_extension": ".py",
   "mimetype": "text/x-python",
   "name": "python",
   "nbconvert_exporter": "python",
   "pygments_lexer": "ipython3",
   "version": "3.6.3"
  }
 },
 "nbformat": 4,
 "nbformat_minor": 2
}
